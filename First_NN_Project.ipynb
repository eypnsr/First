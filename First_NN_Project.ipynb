{
  "nbformat": 4,
  "nbformat_minor": 0,
  "metadata": {
    "colab": {
      "provenance": [],
      "authorship_tag": "ABX9TyPKvz08UQHsZS8P0jucj1dG",
      "include_colab_link": true
    },
    "kernelspec": {
      "name": "python3",
      "display_name": "Python 3"
    },
    "language_info": {
      "name": "python"
    }
  },
  "cells": [
    {
      "cell_type": "markdown",
      "metadata": {
        "id": "view-in-github",
        "colab_type": "text"
      },
      "source": [
        "<a href=\"https://colab.research.google.com/github/eypnsr/First/blob/main/First_NN_Project.ipynb\" target=\"_parent\"><img src=\"https://colab.research.google.com/assets/colab-badge.svg\" alt=\"Open In Colab\"/></a>"
      ]
    },
    {
      "cell_type": "code",
      "execution_count": 84,
      "metadata": {
        "colab": {
          "base_uri": "https://localhost:8080/",
          "height": 36
        },
        "id": "ucuBBqBweq43",
        "outputId": "30fff155-a464-4891-c42c-b3dabeb366f4"
      },
      "outputs": [
        {
          "output_type": "execute_result",
          "data": {
            "text/plain": [
              "'2.1.0+cu118'"
            ],
            "application/vnd.google.colaboratory.intrinsic+json": {
              "type": "string"
            }
          },
          "metadata": {},
          "execution_count": 84
        }
      ],
      "source": [
        "import torch\n",
        "from torch import nn\n",
        "import matplotlib.pyplot as plt\n",
        "import numpy as np\n",
        "torch.__version__"
      ]
    },
    {
      "cell_type": "code",
      "source": [
        "from torch.cuda import device\n",
        "device= \"cuda\" if torch.cuda.is_available() else \"cpu\"\n",
        "print(f\"Using device: {device}\")"
      ],
      "metadata": {
        "colab": {
          "base_uri": "https://localhost:8080/"
        },
        "id": "BUQbIEOfgcA2",
        "outputId": "2f2c5d59-3ebb-4c08-b315-29017d460e5b"
      },
      "execution_count": 85,
      "outputs": [
        {
          "output_type": "stream",
          "name": "stdout",
          "text": [
            "Using device: cpu\n"
          ]
        }
      ]
    },
    {
      "cell_type": "markdown",
      "source": [
        "Device-agnostic code yazalım ve kullanabilirse gpu kullansın"
      ],
      "metadata": {
        "id": "o9V5vAPtgKQq"
      }
    },
    {
      "cell_type": "markdown",
      "source": [
        "DATA"
      ],
      "metadata": {
        "id": "Qwyi-utzg-AC"
      }
    },
    {
      "cell_type": "code",
      "source": [
        "weight= 0.7\n",
        "bias=0.3\n",
        "\n",
        "\n",
        "start=0\n",
        "end=1\n",
        "step=0.02\n",
        "\n",
        "x=torch.arange(start, end, step).unsqueeze(dim=1)\n",
        "y=weight * x + bias\n",
        "x[:10], y[:10]"
      ],
      "metadata": {
        "colab": {
          "base_uri": "https://localhost:8080/"
        },
        "id": "nRfjY68Fg636",
        "outputId": "80773ffe-d39f-44d0-ff17-2eed54078026"
      },
      "execution_count": 86,
      "outputs": [
        {
          "output_type": "execute_result",
          "data": {
            "text/plain": [
              "(tensor([[0.0000],\n",
              "         [0.0200],\n",
              "         [0.0400],\n",
              "         [0.0600],\n",
              "         [0.0800],\n",
              "         [0.1000],\n",
              "         [0.1200],\n",
              "         [0.1400],\n",
              "         [0.1600],\n",
              "         [0.1800]]),\n",
              " tensor([[0.3000],\n",
              "         [0.3140],\n",
              "         [0.3280],\n",
              "         [0.3420],\n",
              "         [0.3560],\n",
              "         [0.3700],\n",
              "         [0.3840],\n",
              "         [0.3980],\n",
              "         [0.4120],\n",
              "         [0.4260]]))"
            ]
          },
          "metadata": {},
          "execution_count": 86
        }
      ]
    },
    {
      "cell_type": "code",
      "source": [
        "train_split=int(0.8 * len(x))\n",
        "x_train, y_train = x[:train_split], y[:train_split]\n",
        "x_test, y_test= x[train_split:], y[train_split:]\n",
        "len(x_train), len(y_train), len(x_test), len(y_test)"
      ],
      "metadata": {
        "colab": {
          "base_uri": "https://localhost:8080/"
        },
        "id": "BJk5suiziAVT",
        "outputId": "d6f69ed5-8973-4ad8-c290-f2e347969504"
      },
      "execution_count": 87,
      "outputs": [
        {
          "output_type": "execute_result",
          "data": {
            "text/plain": [
              "(40, 40, 10, 10)"
            ]
          },
          "metadata": {},
          "execution_count": 87
        }
      ]
    },
    {
      "cell_type": "code",
      "source": [
        "def plot_predictions(train_data=x_train,\n",
        "                     train_labels=y_train,\n",
        "                     test_data=x_test,\n",
        "                     test_labels=y_test,\n",
        "                     predictions=None):\n",
        "  plt.figure(figsize=(10,7))\n",
        "  plt.scatter(train_data, train_labels, c=\"b\", s=4, label=\"Training Data\")\n",
        "  plt.scatter(test_data, test_labels, c=\"g\", s=4, label=\"Testing Data\")\n",
        "  if predictions is not None:\n",
        "    plt.scatter(test_data, predictions, c=\"r\", s=4, label=\"Predictions\")\n",
        "  plt.legend(prop={\"size\":14});"
      ],
      "metadata": {
        "id": "IhzVu1QQiw3j"
      },
      "execution_count": 88,
      "outputs": []
    },
    {
      "cell_type": "code",
      "source": [
        "plot_predictions(x_train, y_train, x_test, y_test)"
      ],
      "metadata": {
        "colab": {
          "base_uri": "https://localhost:8080/",
          "height": 599
        },
        "id": "2wJRdX4OjQNO",
        "outputId": "9de2b6a4-1f06-434c-ba92-7daa3ab829c7"
      },
      "execution_count": 104,
      "outputs": [
        {
          "output_type": "display_data",
          "data": {
            "text/plain": [
              "<Figure size 1000x700 with 1 Axes>"
            ],
            "image/png": "[encoded data removed]"
          },
          "metadata": {}
        }
      ]
    },
    {
      "cell_type": "code",
      "source": [
        "class LinearRegressionModel(nn.Module):\n",
        "  def __init__(self):\n",
        "    super().__init__()\n",
        "    self.weights=nn.Parameter(torch.randn(1,\n",
        "                              dtype=torch.float),\n",
        "                              requires_grad=True)\n",
        "    self.bias=nn.Parameter(torch.randn(1,\n",
        "                              dtype=torch.float),\n",
        "                              requires_grad=True)\n",
        "  def forward(self, x:torch.Tensor) -> torch.Tensor:\n",
        "    return self.weights * x + self.bias"
      ],
      "metadata": {
        "id": "-M0MZkIWvjir"
      },
      "execution_count": 90,
      "outputs": []
    },
    {
      "cell_type": "markdown",
      "source": [
        "Linear Regression Model Defining  (Longer version)"
      ],
      "metadata": {
        "id": "pnGdNutZxvwu"
      }
    },
    {
      "cell_type": "markdown",
      "source": [
        "Linear Regression Model Defining  (Shorter version)"
      ],
      "metadata": {
        "id": "jmX0mz4V1QIR"
      }
    },
    {
      "cell_type": "code",
      "source": [
        "class LinearRegressionModelV2(nn.Module):\n",
        "  def __init__(self):\n",
        "    super().__init__()\n",
        "    self.linear_layer=nn.Linear(in_features=1,\n",
        "                                out_features=1)\n",
        "  def  forward(self, x: torch.Tensor) -> torch.Tensor:\n",
        "    return self.linear_layer(x) #bununla kurduğumuza model_1 diyelim"
      ],
      "metadata": {
        "id": "5WqBj1QJ1MJL"
      },
      "execution_count": 91,
      "outputs": []
    },
    {
      "cell_type": "markdown",
      "source": [
        "Defining model_0 is a linear model"
      ],
      "metadata": {
        "id": "_2a7lNR7xzld"
      }
    },
    {
      "cell_type": "code",
      "source": [
        "torch.manual_seed(42)\n",
        "model_1=LinearRegressionModelV2()\n",
        "model_1"
      ],
      "metadata": {
        "colab": {
          "base_uri": "https://localhost:8080/"
        },
        "id": "oUG_UxkHkzj1",
        "outputId": "87d40501-fd38-42ae-c831-f557c11a74b7"
      },
      "execution_count": 92,
      "outputs": [
        {
          "output_type": "execute_result",
          "data": {
            "text/plain": [
              "LinearRegressionModelV2(\n",
              "  (linear_layer): Linear(in_features=1, out_features=1, bias=True)\n",
              ")"
            ]
          },
          "metadata": {},
          "execution_count": 92
        }
      ]
    },
    {
      "cell_type": "markdown",
      "source": [
        "Looking current weight and bias values"
      ],
      "metadata": {
        "id": "2Bz_VLDGx2gG"
      }
    },
    {
      "cell_type": "code",
      "source": [
        "model_1.state_dict()  #HAS TO BE --> weight: 0.7, bias: 0.3"
      ],
      "metadata": {
        "colab": {
          "base_uri": "https://localhost:8080/"
        },
        "id": "h5rvYf1XxFlN",
        "outputId": "e9cdf7bc-e107-4b8e-ca73-50cfe969f8aa"
      },
      "execution_count": 93,
      "outputs": [
        {
          "output_type": "execute_result",
          "data": {
            "text/plain": [
              "OrderedDict([('linear_layer.weight', tensor([[0.7645]])),\n",
              "             ('linear_layer.bias', tensor([0.8300]))])"
            ]
          },
          "metadata": {},
          "execution_count": 93
        }
      ]
    },
    {
      "cell_type": "markdown",
      "source": [
        "Model current device"
      ],
      "metadata": {
        "id": "vIn8DULJ4Cq1"
      }
    },
    {
      "cell_type": "code",
      "source": [
        "next(model_1.parameters()).device"
      ],
      "metadata": {
        "colab": {
          "base_uri": "https://localhost:8080/"
        },
        "id": "Yy7kvBgw4E84",
        "outputId": "77d2afab-817d-486d-c67e-7b10b55a4e9e"
      },
      "execution_count": 94,
      "outputs": [
        {
          "output_type": "execute_result",
          "data": {
            "text/plain": [
              "device(type='cpu')"
            ]
          },
          "metadata": {},
          "execution_count": 94
        }
      ]
    },
    {
      "cell_type": "markdown",
      "source": [
        "Set for target device"
      ],
      "metadata": {
        "id": "vWrPSZ5R4LYa"
      }
    },
    {
      "cell_type": "code",
      "source": [
        "model_1.to(device)\n",
        "next(model_1.parameters()).device"
      ],
      "metadata": {
        "colab": {
          "base_uri": "https://localhost:8080/"
        },
        "id": "q9V56rIo4Psr",
        "outputId": "98861c9e-73b7-40b0-ab11-dc5b98f3f8ad"
      },
      "execution_count": 95,
      "outputs": [
        {
          "output_type": "execute_result",
          "data": {
            "text/plain": [
              "device(type='cpu')"
            ]
          },
          "metadata": {},
          "execution_count": 95
        }
      ]
    },
    {
      "cell_type": "markdown",
      "source": [
        "For training we need:\n",
        "* Loss Function\n",
        "* Optimizer\n",
        "* Training Loop\n",
        "* Testing Loop"
      ],
      "metadata": {
        "id": "2yzV4ZAb4cdP"
      }
    },
    {
      "cell_type": "markdown",
      "source": [
        "Loss Function (L1Loss, same as MAE)"
      ],
      "metadata": {
        "id": "sqdvmewDxreS"
      }
    },
    {
      "cell_type": "code",
      "source": [
        "loss_fn=nn.L1Loss()"
      ],
      "metadata": {
        "id": "fF8Iu-vOxs0Q"
      },
      "execution_count": 96,
      "outputs": []
    },
    {
      "cell_type": "markdown",
      "source": [
        "Optimizer"
      ],
      "metadata": {
        "id": "NwYynJP7yEHH"
      }
    },
    {
      "cell_type": "code",
      "source": [
        "optimizer=torch.optim.SGD(params=model_1.parameters(), lr=0.01)"
      ],
      "metadata": {
        "id": "5ixB697vxqtZ"
      },
      "execution_count": 97,
      "outputs": []
    },
    {
      "cell_type": "markdown",
      "source": [
        "Train and evaluate"
      ],
      "metadata": {
        "id": "DucVvsJgyfW7"
      }
    },
    {
      "cell_type": "code",
      "source": [
        "torch.manual_seed(42)\n",
        "epochs=1000\n",
        "train_loss_values=[]\n",
        "test_loss_values=[]\n",
        "epoch_count=[]\n",
        "\n",
        "x_train = x_train.to(device)\n",
        "x_test = x_test.to(device)\n",
        "y_train = y_train.to(device)\n",
        "y_test = y_test.to(device)\n",
        "\n",
        "for epoch in range(epochs):\n",
        "  model_1.train()\n",
        "  y_pred=model_1(x_train)\n",
        "  loss=loss_fn(y_pred, y_train)\n",
        "  optimizer.zero_grad()\n",
        "  loss.backward()\n",
        "  optimizer.step()\n",
        "\n",
        "  model_1.eval()\n",
        "  with torch.inference_mode():\n",
        "    test_preds=model_1(x_test)\n",
        "    test_loss=loss_fn(test_preds, y_test)\n",
        "    if epoch %100==0:\n",
        "      print(f\"Epoch: {epoch} |  MAE Train Loss: {loss} |MAE Test Loss: {test_loss}\")\n",
        "\n"
      ],
      "metadata": {
        "colab": {
          "base_uri": "https://localhost:8080/"
        },
        "id": "eJjoGHsbvanV",
        "outputId": "be8da9b5-94b5-47e6-b514-ebcb3a8ac287"
      },
      "execution_count": 98,
      "outputs": [
        {
          "output_type": "stream",
          "name": "stdout",
          "text": [
            "Epoch: 0 |  MAE Train Loss: 0.5551779866218567 |MAE Test Loss: 0.5739762187004089\n",
            "Epoch: 100 |  MAE Train Loss: 0.006215679459273815 |MAE Test Loss: 0.014086711220443249\n",
            "Epoch: 200 |  MAE Train Loss: 0.0012645035749301314 |MAE Test Loss: 0.013801807537674904\n",
            "Epoch: 300 |  MAE Train Loss: 0.0012645035749301314 |MAE Test Loss: 0.013801807537674904\n",
            "Epoch: 400 |  MAE Train Loss: 0.0012645035749301314 |MAE Test Loss: 0.013801807537674904\n",
            "Epoch: 500 |  MAE Train Loss: 0.0012645035749301314 |MAE Test Loss: 0.013801807537674904\n",
            "Epoch: 600 |  MAE Train Loss: 0.0012645035749301314 |MAE Test Loss: 0.013801807537674904\n",
            "Epoch: 700 |  MAE Train Loss: 0.0012645035749301314 |MAE Test Loss: 0.013801807537674904\n",
            "Epoch: 800 |  MAE Train Loss: 0.0012645035749301314 |MAE Test Loss: 0.013801807537674904\n",
            "Epoch: 900 |  MAE Train Loss: 0.0012645035749301314 |MAE Test Loss: 0.013801807537674904\n"
          ]
        }
      ]
    },
    {
      "cell_type": "code",
      "source": [
        "model_1.state_dict()  #çok yaklaşmış"
      ],
      "metadata": {
        "colab": {
          "base_uri": "https://localhost:8080/"
        },
        "id": "G4RF3xCKS-4q",
        "outputId": "e172f734-ebdc-4e55-9c2e-673c1d698e42"
      },
      "execution_count": 99,
      "outputs": [
        {
          "output_type": "execute_result",
          "data": {
            "text/plain": [
              "OrderedDict([('linear_layer.weight', tensor([[0.6968]])),\n",
              "             ('linear_layer.bias', tensor([0.3025]))])"
            ]
          },
          "metadata": {},
          "execution_count": 99
        }
      ]
    },
    {
      "cell_type": "markdown",
      "source": [
        "def y_preds"
      ],
      "metadata": {
        "id": "1h2hohdDYPMV"
      }
    },
    {
      "cell_type": "code",
      "source": [
        "with torch.inference_mode():\n",
        "  y_preds=model_1(x_test)\n",
        "y_preds"
      ],
      "metadata": {
        "colab": {
          "base_uri": "https://localhost:8080/"
        },
        "id": "JVVkKl04YOal",
        "outputId": "9d3eb708-1006-40b2-981f-dec962281e68"
      },
      "execution_count": 106,
      "outputs": [
        {
          "output_type": "execute_result",
          "data": {
            "text/plain": [
              "tensor([[0.8600],\n",
              "        [0.8739],\n",
              "        [0.8878],\n",
              "        [0.9018],\n",
              "        [0.9157],\n",
              "        [0.9296],\n",
              "        [0.9436],\n",
              "        [0.9575],\n",
              "        [0.9714],\n",
              "        [0.9854]])"
            ]
          },
          "metadata": {},
          "execution_count": 106
        }
      ]
    },
    {
      "cell_type": "markdown",
      "source": [
        "Plot y_preds"
      ],
      "metadata": {
        "id": "VU0f_90HY9oD"
      }
    },
    {
      "cell_type": "code",
      "source": [
        "plot_predictions(predictions=y_preds)"
      ],
      "metadata": {
        "colab": {
          "base_uri": "https://localhost:8080/",
          "height": 599
        },
        "id": "ePu8cmwvVzXz",
        "outputId": "67491bb7-7893-4ff8-e4a0-712885e46624"
      },
      "execution_count": 108,
      "outputs": [
        {
          "output_type": "display_data",
          "data": {
            "text/plain": [
              "<Figure size 1000x700 with 1 Axes>"
            ],
            "image/png": "[encoded data removed]"
          },
          "metadata": {}
        }
      ]
    },
    {
      "cell_type": "markdown",
      "source": [
        "Save and Load"
      ],
      "metadata": {
        "id": "Zraf1VIHaaJW"
      }
    },
    {
      "cell_type": "code",
      "source": [
        "from pathlib import Path\n",
        "Model_Path = Path(\"models\")\n",
        "Model_Path.mkdir(parents=True, exist_ok=True)\n",
        "\n",
        "Model_Name=\"First NN Project.pth\"\n",
        "Model_Save_Path=Model_Path / Model_Name\n",
        "\n",
        "print(f\"Saving model to: {Model_Save_Path}\")\n",
        "torch.save(obj=model_1.state_dict(), f=Model_Save_Path)"
      ],
      "metadata": {
        "colab": {
          "base_uri": "https://localhost:8080/"
        },
        "id": "iFBxTNY-XJQx",
        "outputId": "ea966d6d-b5c1-4beb-fe8c-6fb0eb1b422d"
      },
      "execution_count": 115,
      "outputs": [
        {
          "output_type": "stream",
          "name": "stdout",
          "text": [
            "Saving model to: models/First NN Project.pth\n"
          ]
        }
      ]
    }
  ]
}